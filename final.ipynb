{
 "cells": [
  {
   "cell_type": "code",
   "execution_count": 8,
   "metadata": {},
   "outputs": [],
   "source": [
    "import pydicom\n",
    "# import SimpleITK as sitk\n",
    "import pandas as pd \n",
    "import numpy as np\n",
    "from pathlib import Path\n",
    "# import matplotlib.pyplot as plt\n",
    "from sklearn.model_selection import train_test_split\n",
    "import cv2\n",
    "import tensorflow as tf\n",
    "# %matplotlib inline"
   ]
  },
  {
   "cell_type": "code",
   "execution_count": 9,
   "metadata": {},
   "outputs": [],
   "source": [
    "path = Path(\"data/content/\")"
   ]
  },
  {
   "cell_type": "code",
   "execution_count": 10,
   "metadata": {},
   "outputs": [
    {
     "data": {
      "text/html": [
       "<div>\n",
       "<style scoped>\n",
       "    .dataframe tbody tr th:only-of-type {\n",
       "        vertical-align: middle;\n",
       "    }\n",
       "\n",
       "    .dataframe tbody tr th {\n",
       "        vertical-align: top;\n",
       "    }\n",
       "\n",
       "    .dataframe thead th {\n",
       "        text-align: right;\n",
       "    }\n",
       "</style>\n",
       "<table border=\"1\" class=\"dataframe\">\n",
       "  <thead>\n",
       "    <tr style=\"text-align: right;\">\n",
       "      <th></th>\n",
       "      <th>SOPInstanceUID</th>\n",
       "      <th>Label</th>\n",
       "    </tr>\n",
       "  </thead>\n",
       "  <tbody>\n",
       "    <tr>\n",
       "      <th>0</th>\n",
       "      <td>1.2.246.512.1002.1058214001.1267878993.1650415...</td>\n",
       "      <td>normal</td>\n",
       "    </tr>\n",
       "    <tr>\n",
       "      <th>1</th>\n",
       "      <td>2.25.4669378111734520225376815262123197003</td>\n",
       "      <td>normal</td>\n",
       "    </tr>\n",
       "    <tr>\n",
       "      <th>2</th>\n",
       "      <td>1.2.246.512.1.2.0.4.397070732735579.1755416012...</td>\n",
       "      <td>normal</td>\n",
       "    </tr>\n",
       "  </tbody>\n",
       "</table>\n",
       "</div>"
      ],
      "text/plain": [
       "                                      SOPInstanceUID   Label\n",
       "0  1.2.246.512.1002.1058214001.1267878993.1650415...  normal\n",
       "1         2.25.4669378111734520225376815262123197003  normal\n",
       "2  1.2.246.512.1.2.0.4.397070732735579.1755416012...  normal"
      ]
     },
     "execution_count": 10,
     "metadata": {},
     "output_type": "execute_result"
    }
   ],
   "source": [
    "df = pd.read_csv(path / \"labels.csv\")\n",
    "df.drop('Unnamed: 0', axis=1, inplace=True)\n",
    "df.head(3)"
   ]
  },
  {
   "cell_type": "code",
   "execution_count": 11,
   "metadata": {},
   "outputs": [
    {
     "data": {
      "text/plain": [
       "49"
      ]
     },
     "execution_count": 11,
     "metadata": {},
     "output_type": "execute_result"
    }
   ],
   "source": [
    "len(df.loc[df['Label'] == \"abnormal\"])"
   ]
  },
  {
   "cell_type": "code",
   "execution_count": 12,
   "metadata": {},
   "outputs": [],
   "source": [
    "images, labels = list(), list()\n",
    "for idx, (sop, lbl) in df.iterrows():\n",
    "    ds = pydicom.dcmread(path / f\"DICOM/{sop}.dcm\")\n",
    "    img = ds.pixel_array\n",
    "    images.append(cv2.resize(img, (224, 224)) / 255.)\n",
    "    labels.append(1 if lbl == \"abnormal\" else 0)"
   ]
  },
  {
   "cell_type": "code",
   "execution_count": 13,
   "metadata": {},
   "outputs": [],
   "source": [
    "images = np.array(images)\n",
    "labels = np.array(labels)"
   ]
  },
  {
   "cell_type": "code",
   "execution_count": 14,
   "metadata": {},
   "outputs": [],
   "source": [
    "X_train, X_test, y_train, y_test = train_test_split(images, labels, test_size=0.33, random_state=42)"
   ]
  },
  {
   "cell_type": "code",
   "execution_count": 15,
   "metadata": {},
   "outputs": [],
   "source": [
    "inputs = tf.keras.layers.Input(shape=(224, 224, 1))\n",
    "x = tf.keras.layers.Conv2D(3, 1, 1, padding='same')(inputs)\n",
    "base_model = tf.keras.applications.ResNet50(input_shape=(224, 224, 3),\n",
    "                                               include_top=False,\n",
    "                                               weights='imagenet')\n",
    "base_model.trainable = False\n",
    "x = base_model(x)\n",
    "x = tf.keras.layers.GlobalAveragePooling2D()(x)\n",
    "x = tf.keras.layers.Dropout(0.2)(x)\n",
    "outputs = tf.keras.layers.Dense(1)(x)\n",
    "model = tf.keras.Model(inputs, outputs)"
   ]
  },
  {
   "cell_type": "code",
   "execution_count": 16,
   "metadata": {},
   "outputs": [],
   "source": [
    "base_learning_rate = 0.0001\n",
    "\n",
    "model.compile(optimizer=tf.keras.optimizers.Adam(learning_rate=base_learning_rate),\n",
    "              loss=tf.keras.losses.BinaryCrossentropy(from_logits=True),\n",
    "              metrics=['acc', tf.keras.metrics.Precision(),\n",
    "                       tf.keras.metrics.Recall(),\n",
    "                       tf.keras.metrics.AUC(),])"
   ]
  },
  {
   "cell_type": "code",
   "execution_count": 17,
   "metadata": {},
   "outputs": [
    {
     "name": "stdout",
     "output_type": "stream",
     "text": [
      "Epoch 1/10\n",
      "8/8 [==============================] - 109s 12s/step - loss: 1.1143 - acc: 0.4538 - precision_1: 0.1379 - recall_1: 0.8000 - auc_1: 0.6308 - val_loss: 0.8921 - val_acc: 0.6311 - val_precision_1: 0.0556 - val_recall_1: 0.3333 - val_auc_1: 0.5206\n",
      "Epoch 2/10\n",
      "8/8 [==============================] - 81s 10s/step - loss: 0.8007 - acc: 0.6387 - precision_1: 0.0704 - recall_1: 0.2000 - auc_1: 0.4560 - val_loss: 0.5906 - val_acc: 0.8932 - val_precision_1: 0.0000e+00 - val_recall_1: 0.0000e+00 - val_auc_1: 0.4648\n",
      "Epoch 3/10\n",
      "8/8 [==============================] - 77s 10s/step - loss: 0.5580 - acc: 0.8151 - precision_1: 0.1481 - recall_1: 0.1600 - auc_1: 0.5557 - val_loss: 0.4121 - val_acc: 0.9417 - val_precision_1: 0.0000e+00 - val_recall_1: 0.0000e+00 - val_auc_1: 0.4897\n",
      "Epoch 4/10\n",
      "8/8 [==============================] - 79s 10s/step - loss: 0.4620 - acc: 0.8824 - precision_1: 0.2857 - recall_1: 0.0800 - auc_1: 0.5325 - val_loss: 0.3181 - val_acc: 0.9417 - val_precision_1: 0.0000e+00 - val_recall_1: 0.0000e+00 - val_auc_1: 0.5000\n",
      "Epoch 5/10\n",
      "8/8 [==============================] - 79s 10s/step - loss: 0.4265 - acc: 0.8866 - precision_1: 0.0000e+00 - recall_1: 0.0000e+00 - auc_1: 0.5014 - val_loss: 0.2733 - val_acc: 0.9417 - val_precision_1: 0.0000e+00 - val_recall_1: 0.0000e+00 - val_auc_1: 0.5000\n",
      "Epoch 6/10\n",
      "8/8 [==============================] - 75s 10s/step - loss: 0.3847 - acc: 0.8950 - precision_1: 0.0000e+00 - recall_1: 0.0000e+00 - auc_1: 0.5129 - val_loss: 0.2518 - val_acc: 0.9417 - val_precision_1: 0.0000e+00 - val_recall_1: 0.0000e+00 - val_auc_1: 0.5000\n",
      "Epoch 7/10\n",
      "8/8 [==============================] - 75s 10s/step - loss: 0.3820 - acc: 0.8950 - precision_1: 0.0000e+00 - recall_1: 0.0000e+00 - auc_1: 0.5177 - val_loss: 0.2399 - val_acc: 0.9417 - val_precision_1: 0.0000e+00 - val_recall_1: 0.0000e+00 - val_auc_1: 0.5000\n",
      "Epoch 8/10\n",
      "8/8 [==============================] - 71s 9s/step - loss: 0.3635 - acc: 0.8908 - precision_1: 0.0000e+00 - recall_1: 0.0000e+00 - auc_1: 0.5153 - val_loss: 0.2362 - val_acc: 0.9417 - val_precision_1: 0.0000e+00 - val_recall_1: 0.0000e+00 - val_auc_1: 0.5000\n",
      "Epoch 9/10\n",
      "8/8 [==============================] - 71s 9s/step - loss: 0.3663 - acc: 0.8950 - precision_1: 0.0000e+00 - recall_1: 0.0000e+00 - auc_1: 0.5000 - val_loss: 0.2333 - val_acc: 0.9417 - val_precision_1: 0.0000e+00 - val_recall_1: 0.0000e+00 - val_auc_1: 0.5000\n",
      "Epoch 10/10\n",
      "8/8 [==============================] - 79s 10s/step - loss: 0.3732 - acc: 0.8950 - precision_1: 0.0000e+00 - recall_1: 0.0000e+00 - auc_1: 0.4977 - val_loss: 0.2309 - val_acc: 0.9417 - val_precision_1: 0.0000e+00 - val_recall_1: 0.0000e+00 - val_auc_1: 0.5000\n"
     ]
    }
   ],
   "source": [
    "res = model.fit(x=X_train, y=y_train, epochs=10, validation_split=0.3)"
   ]
  },
  {
   "cell_type": "code",
   "execution_count": 18,
   "metadata": {},
   "outputs": [],
   "source": [
    "model.save(\"model.h5\")"
   ]
  },
  {
   "cell_type": "code",
   "execution_count": 19,
   "metadata": {},
   "outputs": [
    {
     "name": "stdout",
     "output_type": "stream",
     "text": [
      "Model: \"model_1\"\n",
      "_________________________________________________________________\n",
      " Layer (type)                Output Shape              Param #   \n",
      "=================================================================\n",
      " input_3 (InputLayer)        [(None, 224, 224, 1)]     0         \n",
      "                                                                 \n",
      " conv2d_1 (Conv2D)           (None, 224, 224, 3)       6         \n",
      "                                                                 \n",
      " resnet50 (Functional)       (None, 7, 7, 2048)        23587712  \n",
      "                                                                 \n",
      " global_average_pooling2d_1   (None, 2048)             0         \n",
      " (GlobalAveragePooling2D)                                        \n",
      "                                                                 \n",
      " dropout_1 (Dropout)         (None, 2048)              0         \n",
      "                                                                 \n",
      " dense_1 (Dense)             (None, 1)                 2049      \n",
      "                                                                 \n",
      "=================================================================\n",
      "Total params: 23,589,767\n",
      "Trainable params: 2,055\n",
      "Non-trainable params: 23,587,712\n",
      "_________________________________________________________________\n"
     ]
    }
   ],
   "source": [
    "loaded_model = tf.keras.models.load_model(\"model.h5\")\n",
    "loaded_model.summary()"
   ]
  },
  {
   "cell_type": "code",
   "execution_count": 20,
   "metadata": {},
   "outputs": [
    {
     "name": "stdout",
     "output_type": "stream",
     "text": [
      "6/6 [==============================] - 17s 2s/step - loss: 0.3557 - acc: 0.8929 - precision_1: 0.0000e+00 - recall_1: 0.0000e+00 - auc_1: 0.5000\n"
     ]
    },
    {
     "data": {
      "text/plain": [
       "[0.35569828748703003, 0.8928571343421936, 0.0, 0.0, 0.5]"
      ]
     },
     "execution_count": 20,
     "metadata": {},
     "output_type": "execute_result"
    }
   ],
   "source": [
    "loaded_model.evaluate(x=X_test, y=y_test)"
   ]
  }
 ],
 "metadata": {
  "kernelspec": {
   "display_name": "venv",
   "language": "python",
   "name": "python3"
  },
  "language_info": {
   "codemirror_mode": {
    "name": "ipython",
    "version": 3
   },
   "file_extension": ".py",
   "mimetype": "text/x-python",
   "name": "python",
   "nbconvert_exporter": "python",
   "pygments_lexer": "ipython3",
   "version": "3.11.2"
  },
  "orig_nbformat": 4,
  "vscode": {
   "interpreter": {
    "hash": "d2b6ac9097afe1dd0bd801f86cac9aa829a997024471c4c61f068295c904e22b"
   }
  }
 },
 "nbformat": 4,
 "nbformat_minor": 2
}
